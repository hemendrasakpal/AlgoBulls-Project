{
 "cells": [
  {
   "cell_type": "code",
   "execution_count": 10,
   "metadata": {},
   "outputs": [],
   "source": [
    "import pandas as pd\n",
    "import numpy as np\n",
    "import matplotlib.pyplot as plt\n",
    "import seaborn as sns\n",
    "from alpha_vantage.timeseries import TimeSeries"
   ]
  },
  {
   "cell_type": "code",
   "execution_count": 11,
   "metadata": {},
   "outputs": [],
   "source": [
    "API_key = 'O7H7PGIRYSCDC6M1'\n",
    "class ScriptData:\n",
    "    def __init__(self, API_key):\n",
    "        self.Api_key = API_key\n",
    "        \n",
    "    def fetch_intraday_data(self, script,timeperiod=\"5min\"):\n",
    "        self.script  = script\n",
    "        self.timeperiod = timeperiod\n",
    "        ts = TimeSeries(key = self.Api_key,output_format='pandas')\n",
    "        data = ts.get_intraday(self.script,interval=self.timeperiod)\n",
    "        return data\n",
    "    def convert_intraday_data(self, script):\n",
    "        self.script  = script\n",
    "        data = self.fetch_intraday_data(script)\n",
    "        df = pd.DataFrame(data[0])\n",
    "        df.reset_index(inplace=True)\n",
    "        df.columns = ['timestamp','open','high','low','close','volume']\n",
    "        df['volume'] = df['volume'].astype(int)\n",
    "        return df\n",
    "def indicator1(data, timeperiod):\n",
    "    indicator = data[['timestamp','close']]\n",
    "    indicator['indicator'] = indicator.rolling(timeperiod).mean()\n",
    "    indicator.drop(['close'],axis=1,inplace=True)\n",
    "    return indicator"
   ]
  },
  {
   "cell_type": "code",
   "execution_count": 12,
   "metadata": {},
   "outputs": [],
   "source": [
    "scriptdata = ScriptData(API_key)"
   ]
  },
  {
   "cell_type": "code",
   "execution_count": 13,
   "metadata": {},
   "outputs": [
    {
     "data": {
      "text/plain": [
       "(                     1. open    2. high   3. low  4. close  5. volume\n",
       " date                                                                 \n",
       " 2021-12-23 20:00:00  2938.00  2938.0000  2938.00  2938.000      201.0\n",
       " 2021-12-23 16:35:00  2934.29  2934.2900  2934.29  2934.290      191.0\n",
       " 2021-12-23 16:25:00  2938.00  2938.0000  2938.00  2938.000      301.0\n",
       " 2021-12-23 16:10:00  2938.33  2938.3300  2938.33  2938.330      293.0\n",
       " 2021-12-23 16:05:00  2938.33  2938.3300  2938.00  2938.330    12194.0\n",
       " ...                      ...        ...      ...       ...        ...\n",
       " 2021-12-22 15:45:00  2920.25  2921.1678  2919.34  2921.000    17360.0\n",
       " 2021-12-22 15:40:00  2916.57  2921.1500  2915.36  2921.000    21780.0\n",
       " 2021-12-22 15:35:00  2919.96  2919.9600  2916.20  2917.220    14181.0\n",
       " 2021-12-22 15:30:00  2919.60  2920.6500  2918.70  2919.895     8721.0\n",
       " 2021-12-22 15:25:00  2918.97  2919.7300  2917.49  2919.730     6537.0\n",
       " \n",
       " [100 rows x 5 columns],\n",
       " {'1. Information': 'Intraday (5min) open, high, low, close prices and volume',\n",
       "  '2. Symbol': 'GOOGL',\n",
       "  '3. Last Refreshed': '2021-12-23 20:00:00',\n",
       "  '4. Interval': '5min',\n",
       "  '5. Output Size': 'Compact',\n",
       "  '6. Time Zone': 'US/Eastern'})"
      ]
     },
     "execution_count": 13,
     "metadata": {},
     "output_type": "execute_result"
    }
   ],
   "source": [
    "scriptdata.fetch_intraday_data(\"GOOGL\")"
   ]
  },
  {
   "cell_type": "code",
   "execution_count": 14,
   "metadata": {},
   "outputs": [
    {
     "data": {
      "text/html": [
       "<div>\n",
       "<style scoped>\n",
       "    .dataframe tbody tr th:only-of-type {\n",
       "        vertical-align: middle;\n",
       "    }\n",
       "\n",
       "    .dataframe tbody tr th {\n",
       "        vertical-align: top;\n",
       "    }\n",
       "\n",
       "    .dataframe thead th {\n",
       "        text-align: right;\n",
       "    }\n",
       "</style>\n",
       "<table border=\"1\" class=\"dataframe\">\n",
       "  <thead>\n",
       "    <tr style=\"text-align: right;\">\n",
       "      <th></th>\n",
       "      <th>timestamp</th>\n",
       "      <th>open</th>\n",
       "      <th>high</th>\n",
       "      <th>low</th>\n",
       "      <th>close</th>\n",
       "      <th>volume</th>\n",
       "    </tr>\n",
       "  </thead>\n",
       "  <tbody>\n",
       "    <tr>\n",
       "      <th>0</th>\n",
       "      <td>2021-12-23 20:00:00</td>\n",
       "      <td>2938.00</td>\n",
       "      <td>2938.0000</td>\n",
       "      <td>2938.00</td>\n",
       "      <td>2938.000</td>\n",
       "      <td>201</td>\n",
       "    </tr>\n",
       "    <tr>\n",
       "      <th>1</th>\n",
       "      <td>2021-12-23 16:35:00</td>\n",
       "      <td>2934.29</td>\n",
       "      <td>2934.2900</td>\n",
       "      <td>2934.29</td>\n",
       "      <td>2934.290</td>\n",
       "      <td>191</td>\n",
       "    </tr>\n",
       "    <tr>\n",
       "      <th>2</th>\n",
       "      <td>2021-12-23 16:25:00</td>\n",
       "      <td>2938.00</td>\n",
       "      <td>2938.0000</td>\n",
       "      <td>2938.00</td>\n",
       "      <td>2938.000</td>\n",
       "      <td>301</td>\n",
       "    </tr>\n",
       "    <tr>\n",
       "      <th>3</th>\n",
       "      <td>2021-12-23 16:10:00</td>\n",
       "      <td>2938.33</td>\n",
       "      <td>2938.3300</td>\n",
       "      <td>2938.33</td>\n",
       "      <td>2938.330</td>\n",
       "      <td>293</td>\n",
       "    </tr>\n",
       "    <tr>\n",
       "      <th>4</th>\n",
       "      <td>2021-12-23 16:05:00</td>\n",
       "      <td>2938.33</td>\n",
       "      <td>2938.3300</td>\n",
       "      <td>2938.00</td>\n",
       "      <td>2938.330</td>\n",
       "      <td>12194</td>\n",
       "    </tr>\n",
       "    <tr>\n",
       "      <th>...</th>\n",
       "      <td>...</td>\n",
       "      <td>...</td>\n",
       "      <td>...</td>\n",
       "      <td>...</td>\n",
       "      <td>...</td>\n",
       "      <td>...</td>\n",
       "    </tr>\n",
       "    <tr>\n",
       "      <th>95</th>\n",
       "      <td>2021-12-22 15:45:00</td>\n",
       "      <td>2920.25</td>\n",
       "      <td>2921.1678</td>\n",
       "      <td>2919.34</td>\n",
       "      <td>2921.000</td>\n",
       "      <td>17360</td>\n",
       "    </tr>\n",
       "    <tr>\n",
       "      <th>96</th>\n",
       "      <td>2021-12-22 15:40:00</td>\n",
       "      <td>2916.57</td>\n",
       "      <td>2921.1500</td>\n",
       "      <td>2915.36</td>\n",
       "      <td>2921.000</td>\n",
       "      <td>21780</td>\n",
       "    </tr>\n",
       "    <tr>\n",
       "      <th>97</th>\n",
       "      <td>2021-12-22 15:35:00</td>\n",
       "      <td>2919.96</td>\n",
       "      <td>2919.9600</td>\n",
       "      <td>2916.20</td>\n",
       "      <td>2917.220</td>\n",
       "      <td>14181</td>\n",
       "    </tr>\n",
       "    <tr>\n",
       "      <th>98</th>\n",
       "      <td>2021-12-22 15:30:00</td>\n",
       "      <td>2919.60</td>\n",
       "      <td>2920.6500</td>\n",
       "      <td>2918.70</td>\n",
       "      <td>2919.895</td>\n",
       "      <td>8721</td>\n",
       "    </tr>\n",
       "    <tr>\n",
       "      <th>99</th>\n",
       "      <td>2021-12-22 15:25:00</td>\n",
       "      <td>2918.97</td>\n",
       "      <td>2919.7300</td>\n",
       "      <td>2917.49</td>\n",
       "      <td>2919.730</td>\n",
       "      <td>6537</td>\n",
       "    </tr>\n",
       "  </tbody>\n",
       "</table>\n",
       "<p>100 rows × 6 columns</p>\n",
       "</div>"
      ],
      "text/plain": [
       "             timestamp     open       high      low     close  volume\n",
       "0  2021-12-23 20:00:00  2938.00  2938.0000  2938.00  2938.000     201\n",
       "1  2021-12-23 16:35:00  2934.29  2934.2900  2934.29  2934.290     191\n",
       "2  2021-12-23 16:25:00  2938.00  2938.0000  2938.00  2938.000     301\n",
       "3  2021-12-23 16:10:00  2938.33  2938.3300  2938.33  2938.330     293\n",
       "4  2021-12-23 16:05:00  2938.33  2938.3300  2938.00  2938.330   12194\n",
       "..                 ...      ...        ...      ...       ...     ...\n",
       "95 2021-12-22 15:45:00  2920.25  2921.1678  2919.34  2921.000   17360\n",
       "96 2021-12-22 15:40:00  2916.57  2921.1500  2915.36  2921.000   21780\n",
       "97 2021-12-22 15:35:00  2919.96  2919.9600  2916.20  2917.220   14181\n",
       "98 2021-12-22 15:30:00  2919.60  2920.6500  2918.70  2919.895    8721\n",
       "99 2021-12-22 15:25:00  2918.97  2919.7300  2917.49  2919.730    6537\n",
       "\n",
       "[100 rows x 6 columns]"
      ]
     },
     "execution_count": 14,
     "metadata": {},
     "output_type": "execute_result"
    }
   ],
   "source": [
    "data = scriptdata.convert_intraday_data(\"GOOGL\")\n",
    "data"
   ]
  },
  {
   "cell_type": "code",
   "execution_count": 15,
   "metadata": {},
   "outputs": [
    {
     "name": "stderr",
     "output_type": "stream",
     "text": [
      "<ipython-input-11-23e74c1dcf26>:22: SettingWithCopyWarning: \n",
      "A value is trying to be set on a copy of a slice from a DataFrame.\n",
      "Try using .loc[row_indexer,col_indexer] = value instead\n",
      "\n",
      "See the caveats in the documentation: https://pandas.pydata.org/pandas-docs/stable/user_guide/indexing.html#returning-a-view-versus-a-copy\n",
      "  indicator['indicator'] = indicator.rolling(timeperiod).mean()\n",
      "C:\\Users\\91842\\Anaconda3\\lib\\site-packages\\pandas\\core\\frame.py:3990: SettingWithCopyWarning: \n",
      "A value is trying to be set on a copy of a slice from a DataFrame\n",
      "\n",
      "See the caveats in the documentation: https://pandas.pydata.org/pandas-docs/stable/user_guide/indexing.html#returning-a-view-versus-a-copy\n",
      "  return super().drop(\n"
     ]
    },
    {
     "data": {
      "text/html": [
       "<div>\n",
       "<style scoped>\n",
       "    .dataframe tbody tr th:only-of-type {\n",
       "        vertical-align: middle;\n",
       "    }\n",
       "\n",
       "    .dataframe tbody tr th {\n",
       "        vertical-align: top;\n",
       "    }\n",
       "\n",
       "    .dataframe thead th {\n",
       "        text-align: right;\n",
       "    }\n",
       "</style>\n",
       "<table border=\"1\" class=\"dataframe\">\n",
       "  <thead>\n",
       "    <tr style=\"text-align: right;\">\n",
       "      <th></th>\n",
       "      <th>timestamp</th>\n",
       "      <th>indicator</th>\n",
       "    </tr>\n",
       "  </thead>\n",
       "  <tbody>\n",
       "    <tr>\n",
       "      <th>0</th>\n",
       "      <td>2021-12-23 20:00:00</td>\n",
       "      <td>NaN</td>\n",
       "    </tr>\n",
       "    <tr>\n",
       "      <th>1</th>\n",
       "      <td>2021-12-23 16:35:00</td>\n",
       "      <td>NaN</td>\n",
       "    </tr>\n",
       "    <tr>\n",
       "      <th>2</th>\n",
       "      <td>2021-12-23 16:25:00</td>\n",
       "      <td>NaN</td>\n",
       "    </tr>\n",
       "    <tr>\n",
       "      <th>3</th>\n",
       "      <td>2021-12-23 16:10:00</td>\n",
       "      <td>NaN</td>\n",
       "    </tr>\n",
       "    <tr>\n",
       "      <th>4</th>\n",
       "      <td>2021-12-23 16:05:00</td>\n",
       "      <td>2937.390</td>\n",
       "    </tr>\n",
       "    <tr>\n",
       "      <th>...</th>\n",
       "      <td>...</td>\n",
       "      <td>...</td>\n",
       "    </tr>\n",
       "    <tr>\n",
       "      <th>95</th>\n",
       "      <td>2021-12-22 15:45:00</td>\n",
       "      <td>2925.476</td>\n",
       "    </tr>\n",
       "    <tr>\n",
       "      <th>96</th>\n",
       "      <td>2021-12-22 15:40:00</td>\n",
       "      <td>2924.016</td>\n",
       "    </tr>\n",
       "    <tr>\n",
       "      <th>97</th>\n",
       "      <td>2021-12-22 15:35:00</td>\n",
       "      <td>2921.774</td>\n",
       "    </tr>\n",
       "    <tr>\n",
       "      <th>98</th>\n",
       "      <td>2021-12-22 15:30:00</td>\n",
       "      <td>2920.249</td>\n",
       "    </tr>\n",
       "    <tr>\n",
       "      <th>99</th>\n",
       "      <td>2021-12-22 15:25:00</td>\n",
       "      <td>2919.769</td>\n",
       "    </tr>\n",
       "  </tbody>\n",
       "</table>\n",
       "<p>100 rows × 2 columns</p>\n",
       "</div>"
      ],
      "text/plain": [
       "             timestamp  indicator\n",
       "0  2021-12-23 20:00:00        NaN\n",
       "1  2021-12-23 16:35:00        NaN\n",
       "2  2021-12-23 16:25:00        NaN\n",
       "3  2021-12-23 16:10:00        NaN\n",
       "4  2021-12-23 16:05:00   2937.390\n",
       "..                 ...        ...\n",
       "95 2021-12-22 15:45:00   2925.476\n",
       "96 2021-12-22 15:40:00   2924.016\n",
       "97 2021-12-22 15:35:00   2921.774\n",
       "98 2021-12-22 15:30:00   2920.249\n",
       "99 2021-12-22 15:25:00   2919.769\n",
       "\n",
       "[100 rows x 2 columns]"
      ]
     },
     "execution_count": 15,
     "metadata": {},
     "output_type": "execute_result"
    }
   ],
   "source": [
    "indicator = indicator1(data, timeperiod=5)\n",
    "indicator"
   ]
  },
  {
   "cell_type": "code",
   "execution_count": 16,
   "metadata": {},
   "outputs": [
    {
     "data": {
      "image/png": "[encoded data removed]",
      "text/plain": [
       "<Figure size 1080x720 with 1 Axes>"
      ]
     },
     "metadata": {
      "needs_background": "light"
     },
     "output_type": "display_data"
    }
   ],
   "source": [
    "plt.figure(figsize=(15,10))\n",
    "plt.plot(indicator.timestamp,indicator.indicator,color='grey')\n",
    "plt.plot(data.timestamp,data.close,color='red')\n",
    "plt.grid()"
   ]
  },
  {
   "cell_type": "code",
   "execution_count": 17,
   "metadata": {},
   "outputs": [
    {
     "name": "stderr",
     "output_type": "stream",
     "text": [
      "<ipython-input-11-23e74c1dcf26>:22: SettingWithCopyWarning: \n",
      "A value is trying to be set on a copy of a slice from a DataFrame.\n",
      "Try using .loc[row_indexer,col_indexer] = value instead\n",
      "\n",
      "See the caveats in the documentation: https://pandas.pydata.org/pandas-docs/stable/user_guide/indexing.html#returning-a-view-versus-a-copy\n",
      "  indicator['indicator'] = indicator.rolling(timeperiod).mean()\n",
      "C:\\Users\\91842\\Anaconda3\\lib\\site-packages\\pandas\\core\\frame.py:3990: SettingWithCopyWarning: \n",
      "A value is trying to be set on a copy of a slice from a DataFrame\n",
      "\n",
      "See the caveats in the documentation: https://pandas.pydata.org/pandas-docs/stable/user_guide/indexing.html#returning-a-view-versus-a-copy\n",
      "  return super().drop(\n"
     ]
    }
   ],
   "source": [
    "df = scriptdata.convert_intraday_data('GOOGL')\n",
    "indicator = indicator1(df, timeperiod=5)"
   ]
  },
  {
   "cell_type": "code",
   "execution_count": 18,
   "metadata": {},
   "outputs": [
    {
     "name": "stdout",
     "output_type": "stream",
     "text": [
      "             timestamp     open       high      low  close_data  volume\n",
      "0  2021-12-23 20:00:00  2938.00  2938.0000  2938.00    2938.000     201\n",
      "1  2021-12-23 16:35:00  2934.29  2934.2900  2934.29    2934.290     191\n",
      "2  2021-12-23 16:25:00  2938.00  2938.0000  2938.00    2938.000     301\n",
      "3  2021-12-23 16:10:00  2938.33  2938.3300  2938.33    2938.330     293\n",
      "4  2021-12-23 16:05:00  2938.33  2938.3300  2938.00    2938.330   12194\n",
      "..                 ...      ...        ...      ...         ...     ...\n",
      "95 2021-12-22 15:45:00  2920.25  2921.1678  2919.34    2921.000   17360\n",
      "96 2021-12-22 15:40:00  2916.57  2921.1500  2915.36    2921.000   21780\n",
      "97 2021-12-22 15:35:00  2919.96  2919.9600  2916.20    2917.220   14181\n",
      "98 2021-12-22 15:30:00  2919.60  2920.6500  2918.70    2919.895    8721\n",
      "99 2021-12-22 15:25:00  2918.97  2919.7300  2917.49    2919.730    6537\n",
      "\n",
      "[100 rows x 6 columns]\n",
      "\n",
      "             timestamp  indicator_data\n",
      "0  2021-12-23 20:00:00             NaN\n",
      "1  2021-12-23 16:35:00             NaN\n",
      "2  2021-12-23 16:25:00             NaN\n",
      "3  2021-12-23 16:10:00             NaN\n",
      "4  2021-12-23 16:05:00        2937.390\n",
      "..                 ...             ...\n",
      "95 2021-12-22 15:45:00        2925.476\n",
      "96 2021-12-22 15:40:00        2924.016\n",
      "97 2021-12-22 15:35:00        2921.774\n",
      "98 2021-12-22 15:30:00        2920.249\n",
      "99 2021-12-22 15:25:00        2919.769\n",
      "\n",
      "[100 rows x 2 columns]\n"
     ]
    }
   ],
   "source": [
    "df.columns = ['timestamp', 'open', 'high', 'low', 'close_data', 'volume']\n",
    "indicator.columns = ['timestamp','indicator_data']\n",
    "print(df)\n",
    "print(\"\")\n",
    "print(indicator)"
   ]
  },
  {
   "cell_type": "code",
   "execution_count": 19,
   "metadata": {},
   "outputs": [
    {
     "name": "stderr",
     "output_type": "stream",
     "text": [
      "<ipython-input-19-30e51b8406b3>:22: SettingWithCopyWarning: \n",
      "A value is trying to be set on a copy of a slice from a DataFrame\n",
      "\n",
      "See the caveats in the documentation: https://pandas.pydata.org/pandas-docs/stable/user_guide/indexing.html#returning-a-view-versus-a-copy\n",
      "  signals['signal'][i] = 'NO SIGNAL'\n",
      "C:\\Users\\91842\\Anaconda3\\lib\\site-packages\\pandas\\core\\indexing.py:671: SettingWithCopyWarning: \n",
      "A value is trying to be set on a copy of a slice from a DataFrame\n",
      "\n",
      "See the caveats in the documentation: https://pandas.pydata.org/pandas-docs/stable/user_guide/indexing.html#returning-a-view-versus-a-copy\n",
      "  self._setitem_with_indexer(indexer, value)\n",
      "<ipython-input-19-30e51b8406b3>:20: SettingWithCopyWarning: \n",
      "A value is trying to be set on a copy of a slice from a DataFrame\n",
      "\n",
      "See the caveats in the documentation: https://pandas.pydata.org/pandas-docs/stable/user_guide/indexing.html#returning-a-view-versus-a-copy\n",
      "  signals['signal'][i] = 'BUY'\n",
      "<ipython-input-19-30e51b8406b3>:18: SettingWithCopyWarning: \n",
      "A value is trying to be set on a copy of a slice from a DataFrame\n",
      "\n",
      "See the caveats in the documentation: https://pandas.pydata.org/pandas-docs/stable/user_guide/indexing.html#returning-a-view-versus-a-copy\n",
      "  signals['signal'][i] = 'SELL'\n"
     ]
    },
    {
     "data": {
      "text/plain": [
       "NO SIGNAL    66\n",
       "BUY          18\n",
       "SELL         16\n",
       "Name: signal, dtype: int64"
      ]
     },
     "execution_count": 19,
     "metadata": {},
     "output_type": "execute_result"
    }
   ],
   "source": [
    "# Put Strategy class here\n",
    "class Strategy(ScriptData):\n",
    "    def __init__(self,script):\n",
    "        self.Api_key = API_key\n",
    "        self.script = script\n",
    "    def get_script_data(self):\n",
    "        df = self.convert_intraday_data(self.script)\n",
    "        return df\n",
    "    def get_signals(self):\n",
    "        df = self.get_script_data()\n",
    "        signals = pd.DataFrame()\n",
    "        signals['timestamp'] = df['timestamp']\n",
    "        signals['signal'] = np.nan\n",
    "        df.columns = ['timestamp', 'open', 'high', 'low', 'close_data', 'volume']\n",
    "        indicator.columns = ['timestamp','indicator_data']\n",
    "        for i in range(1,len(df.index)-1):\n",
    "            if (df.close_data[i+1] > indicator.indicator_data[i+1]) and (df.close_data[i-1] < indicator.indicator_data[i-1]):\n",
    "                signals['signal'][i] = 'SELL'\n",
    "            elif (df.close_data[i+1] < indicator.indicator_data[i+1]) and (df.close_data[i-1] > indicator.indicator_data[i-1]):   \n",
    "                signals['signal'][i] = 'BUY'\n",
    "            else:\n",
    "                signals['signal'][i] = 'NO SIGNAL'\n",
    "        signals['signal'] = signals['signal'].fillna('NO SIGNAL')  \n",
    "        return signals\n",
    "strategy = Strategy(\"GOOGL\")\n",
    "strategy.get_script_data()\n"
   ]
  },
  {
   "cell_type": "code",
   "execution_count": 21,
   "metadata": {},
   "outputs": [
    {
     "name": "stderr",
     "output_type": "stream",
     "text": [
      "<ipython-input-19-30e51b8406b3>:22: SettingWithCopyWarning: \n",
      "A value is trying to be set on a copy of a slice from a DataFrame\n",
      "\n",
      "See the caveats in the documentation: https://pandas.pydata.org/pandas-docs/stable/user_guide/indexing.html#returning-a-view-versus-a-copy\n",
      "  signals['signal'][i] = 'NO SIGNAL'\n",
      "<ipython-input-19-30e51b8406b3>:20: SettingWithCopyWarning: \n",
      "A value is trying to be set on a copy of a slice from a DataFrame\n",
      "\n",
      "See the caveats in the documentation: https://pandas.pydata.org/pandas-docs/stable/user_guide/indexing.html#returning-a-view-versus-a-copy\n",
      "  signals['signal'][i] = 'BUY'\n",
      "<ipython-input-19-30e51b8406b3>:18: SettingWithCopyWarning: \n",
      "A value is trying to be set on a copy of a slice from a DataFrame\n",
      "\n",
      "See the caveats in the documentation: https://pandas.pydata.org/pandas-docs/stable/user_guide/indexing.html#returning-a-view-versus-a-copy\n",
      "  signals['signal'][i] = 'SELL'\n"
     ]
    },
    {
     "ename": "KeyError",
     "evalue": "False",
     "output_type": "error",
     "traceback": [
      "\u001b[1;31m---------------------------------------------------------------------------\u001b[0m",
      "\u001b[1;31mKeyError\u001b[0m                                  Traceback (most recent call last)",
      "\u001b[1;32m~\\Anaconda3\\lib\\site-packages\\pandas\\core\\indexes\\base.py\u001b[0m in \u001b[0;36mget_loc\u001b[1;34m(self, key, method, tolerance)\u001b[0m\n\u001b[0;32m   2645\u001b[0m             \u001b[1;32mtry\u001b[0m\u001b[1;33m:\u001b[0m\u001b[1;33m\u001b[0m\u001b[1;33m\u001b[0m\u001b[0m\n\u001b[1;32m-> 2646\u001b[1;33m                 \u001b[1;32mreturn\u001b[0m \u001b[0mself\u001b[0m\u001b[1;33m.\u001b[0m\u001b[0m_engine\u001b[0m\u001b[1;33m.\u001b[0m\u001b[0mget_loc\u001b[0m\u001b[1;33m(\u001b[0m\u001b[0mkey\u001b[0m\u001b[1;33m)\u001b[0m\u001b[1;33m\u001b[0m\u001b[1;33m\u001b[0m\u001b[0m\n\u001b[0m\u001b[0;32m   2647\u001b[0m             \u001b[1;32mexcept\u001b[0m \u001b[0mKeyError\u001b[0m\u001b[1;33m:\u001b[0m\u001b[1;33m\u001b[0m\u001b[1;33m\u001b[0m\u001b[0m\n",
      "\u001b[1;32mpandas\\_libs\\index.pyx\u001b[0m in \u001b[0;36mpandas._libs.index.IndexEngine.get_loc\u001b[1;34m()\u001b[0m\n",
      "\u001b[1;32mpandas\\_libs\\index.pyx\u001b[0m in \u001b[0;36mpandas._libs.index.IndexEngine.get_loc\u001b[1;34m()\u001b[0m\n",
      "\u001b[1;32mpandas\\_libs\\hashtable_class_helper.pxi\u001b[0m in \u001b[0;36mpandas._libs.hashtable.PyObjectHashTable.get_item\u001b[1;34m()\u001b[0m\n",
      "\u001b[1;32mpandas\\_libs\\hashtable_class_helper.pxi\u001b[0m in \u001b[0;36mpandas._libs.hashtable.PyObjectHashTable.get_item\u001b[1;34m()\u001b[0m\n",
      "\u001b[1;31mKeyError\u001b[0m: False",
      "\nDuring handling of the above exception, another exception occurred:\n",
      "\u001b[1;31mKeyError\u001b[0m                                  Traceback (most recent call last)",
      "\u001b[1;32m<ipython-input-21-e7a05cc3bb24>\u001b[0m in \u001b[0;36m<module>\u001b[1;34m\u001b[0m\n\u001b[1;32m----> 1\u001b[1;33m \u001b[0mstrategy\u001b[0m\u001b[1;33m.\u001b[0m\u001b[0mget_signals\u001b[0m\u001b[1;33m(\u001b[0m\u001b[1;33m)\u001b[0m\u001b[1;33m[\u001b[0m\u001b[1;34m'signal'\u001b[0m\u001b[1;33m==\u001b[0m \u001b[1;34m'BUY'\u001b[0m\u001b[1;33m]\u001b[0m\u001b[1;33m\u001b[0m\u001b[1;33m\u001b[0m\u001b[0m\n\u001b[0m",
      "\u001b[1;32m~\\Anaconda3\\lib\\site-packages\\pandas\\core\\frame.py\u001b[0m in \u001b[0;36m__getitem__\u001b[1;34m(self, key)\u001b[0m\n\u001b[0;32m   2798\u001b[0m             \u001b[1;32mif\u001b[0m \u001b[0mself\u001b[0m\u001b[1;33m.\u001b[0m\u001b[0mcolumns\u001b[0m\u001b[1;33m.\u001b[0m\u001b[0mnlevels\u001b[0m \u001b[1;33m>\u001b[0m \u001b[1;36m1\u001b[0m\u001b[1;33m:\u001b[0m\u001b[1;33m\u001b[0m\u001b[1;33m\u001b[0m\u001b[0m\n\u001b[0;32m   2799\u001b[0m                 \u001b[1;32mreturn\u001b[0m \u001b[0mself\u001b[0m\u001b[1;33m.\u001b[0m\u001b[0m_getitem_multilevel\u001b[0m\u001b[1;33m(\u001b[0m\u001b[0mkey\u001b[0m\u001b[1;33m)\u001b[0m\u001b[1;33m\u001b[0m\u001b[1;33m\u001b[0m\u001b[0m\n\u001b[1;32m-> 2800\u001b[1;33m             \u001b[0mindexer\u001b[0m \u001b[1;33m=\u001b[0m \u001b[0mself\u001b[0m\u001b[1;33m.\u001b[0m\u001b[0mcolumns\u001b[0m\u001b[1;33m.\u001b[0m\u001b[0mget_loc\u001b[0m\u001b[1;33m(\u001b[0m\u001b[0mkey\u001b[0m\u001b[1;33m)\u001b[0m\u001b[1;33m\u001b[0m\u001b[1;33m\u001b[0m\u001b[0m\n\u001b[0m\u001b[0;32m   2801\u001b[0m             \u001b[1;32mif\u001b[0m \u001b[0mis_integer\u001b[0m\u001b[1;33m(\u001b[0m\u001b[0mindexer\u001b[0m\u001b[1;33m)\u001b[0m\u001b[1;33m:\u001b[0m\u001b[1;33m\u001b[0m\u001b[1;33m\u001b[0m\u001b[0m\n\u001b[0;32m   2802\u001b[0m                 \u001b[0mindexer\u001b[0m \u001b[1;33m=\u001b[0m \u001b[1;33m[\u001b[0m\u001b[0mindexer\u001b[0m\u001b[1;33m]\u001b[0m\u001b[1;33m\u001b[0m\u001b[1;33m\u001b[0m\u001b[0m\n",
      "\u001b[1;32m~\\Anaconda3\\lib\\site-packages\\pandas\\core\\indexes\\base.py\u001b[0m in \u001b[0;36mget_loc\u001b[1;34m(self, key, method, tolerance)\u001b[0m\n\u001b[0;32m   2646\u001b[0m                 \u001b[1;32mreturn\u001b[0m \u001b[0mself\u001b[0m\u001b[1;33m.\u001b[0m\u001b[0m_engine\u001b[0m\u001b[1;33m.\u001b[0m\u001b[0mget_loc\u001b[0m\u001b[1;33m(\u001b[0m\u001b[0mkey\u001b[0m\u001b[1;33m)\u001b[0m\u001b[1;33m\u001b[0m\u001b[1;33m\u001b[0m\u001b[0m\n\u001b[0;32m   2647\u001b[0m             \u001b[1;32mexcept\u001b[0m \u001b[0mKeyError\u001b[0m\u001b[1;33m:\u001b[0m\u001b[1;33m\u001b[0m\u001b[1;33m\u001b[0m\u001b[0m\n\u001b[1;32m-> 2648\u001b[1;33m                 \u001b[1;32mreturn\u001b[0m \u001b[0mself\u001b[0m\u001b[1;33m.\u001b[0m\u001b[0m_engine\u001b[0m\u001b[1;33m.\u001b[0m\u001b[0mget_loc\u001b[0m\u001b[1;33m(\u001b[0m\u001b[0mself\u001b[0m\u001b[1;33m.\u001b[0m\u001b[0m_maybe_cast_indexer\u001b[0m\u001b[1;33m(\u001b[0m\u001b[0mkey\u001b[0m\u001b[1;33m)\u001b[0m\u001b[1;33m)\u001b[0m\u001b[1;33m\u001b[0m\u001b[1;33m\u001b[0m\u001b[0m\n\u001b[0m\u001b[0;32m   2649\u001b[0m         \u001b[0mindexer\u001b[0m \u001b[1;33m=\u001b[0m \u001b[0mself\u001b[0m\u001b[1;33m.\u001b[0m\u001b[0mget_indexer\u001b[0m\u001b[1;33m(\u001b[0m\u001b[1;33m[\u001b[0m\u001b[0mkey\u001b[0m\u001b[1;33m]\u001b[0m\u001b[1;33m,\u001b[0m \u001b[0mmethod\u001b[0m\u001b[1;33m=\u001b[0m\u001b[0mmethod\u001b[0m\u001b[1;33m,\u001b[0m \u001b[0mtolerance\u001b[0m\u001b[1;33m=\u001b[0m\u001b[0mtolerance\u001b[0m\u001b[1;33m)\u001b[0m\u001b[1;33m\u001b[0m\u001b[1;33m\u001b[0m\u001b[0m\n\u001b[0;32m   2650\u001b[0m         \u001b[1;32mif\u001b[0m \u001b[0mindexer\u001b[0m\u001b[1;33m.\u001b[0m\u001b[0mndim\u001b[0m \u001b[1;33m>\u001b[0m \u001b[1;36m1\u001b[0m \u001b[1;32mor\u001b[0m \u001b[0mindexer\u001b[0m\u001b[1;33m.\u001b[0m\u001b[0msize\u001b[0m \u001b[1;33m>\u001b[0m \u001b[1;36m1\u001b[0m\u001b[1;33m:\u001b[0m\u001b[1;33m\u001b[0m\u001b[1;33m\u001b[0m\u001b[0m\n",
      "\u001b[1;32mpandas\\_libs\\index.pyx\u001b[0m in \u001b[0;36mpandas._libs.index.IndexEngine.get_loc\u001b[1;34m()\u001b[0m\n",
      "\u001b[1;32mpandas\\_libs\\index.pyx\u001b[0m in \u001b[0;36mpandas._libs.index.IndexEngine.get_loc\u001b[1;34m()\u001b[0m\n",
      "\u001b[1;32mpandas\\_libs\\hashtable_class_helper.pxi\u001b[0m in \u001b[0;36mpandas._libs.hashtable.PyObjectHashTable.get_item\u001b[1;34m()\u001b[0m\n",
      "\u001b[1;32mpandas\\_libs\\hashtable_class_helper.pxi\u001b[0m in \u001b[0;36mpandas._libs.hashtable.PyObjectHashTable.get_item\u001b[1;34m()\u001b[0m\n",
      "\u001b[1;31mKeyError\u001b[0m: False"
     ]
    }
   ],
   "source": [
    "strategy.get_signals()"
   ]
  },
  {
   "cell_type": "code",
   "execution_count": null,
   "metadata": {},
   "outputs": [],
   "source": []
  }
 ],
 "metadata": {
  "kernelspec": {
   "display_name": "Python 3",
   "language": "python",
   "name": "python3"
  },
  "language_info": {
   "codemirror_mode": {
    "name": "ipython",
    "version": 3
   },
   "file_extension": ".py",
   "mimetype": "text/x-python",
   "name": "python",
   "nbconvert_exporter": "python",
   "pygments_lexer": "ipython3",
   "version": "3.8.3"
  }
 },
 "nbformat": 4,
 "nbformat_minor": 4
}
